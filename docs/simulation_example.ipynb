{
 "cells": [
  {
   "cell_type": "markdown",
   "metadata": {},
   "source": [
    "# Using Spellsource\n",
    "\n",
    "**Requires Python 3**: `pip3 install spellsource`\n",
    "\n",
    "In this example, we will use the `simulate` tool to compare winrates of an average player and a decent player using different decks.\n",
    "\n",
    "Note, this is alpha quality software. You may frequently need to restart the kernel to ensure the engine is running properly.\n",
    "\n",
    "First, we will import our dependencies. `tqdm` is used to show progress bars."
   ]
  },
  {
   "cell_type": "code",
   "execution_count": 1,
   "metadata": {},
   "outputs": [],
   "source": [
    "from tqdm import tqdm\n",
    "from spellsource.context import Context\n",
    "from spellsource.utils import simulate"
   ]
  },
  {
   "cell_type": "markdown",
   "metadata": {},
   "source": [
    "These four decks are from the current Witchwood meta."
   ]
  },
  {
   "cell_type": "code",
   "execution_count": 2,
   "metadata": {},
   "outputs": [],
   "source": [
    "DECK_1 = '''\n",
    "### Cubelock - Standard Meta Snapshot - May 9, 2018\n",
    "# Class: Warlock\n",
    "# Format: Standard\n",
    "# Year of the Raven\n",
    "#\n",
    "# 2x (1) Dark Pact\n",
    "# 2x (1) Kobold Librarian\n",
    "# 1x (2) Acidic Swamp Ooze\n",
    "# 2x (2) Defile\n",
    "# 2x (2) Plated Beetle\n",
    "# 2x (3) Stonehill Defender\n",
    "# 2x (4) Hellfire\n",
    "# 2x (4) Lesser Amethyst Spellstone\n",
    "# 1x (4) Spiritsinger Umbra\n",
    "# 2x (5) Carnivorous Cube\n",
    "# 2x (5) Doomguard\n",
    "# 1x (5) Faceless Manipulator\n",
    "# 2x (5) Possessed Lackey\n",
    "# 1x (5) Skull of the Man'ari\n",
    "# 1x (6) Rin, the First Disciple\n",
    "# 1x (7) Lord Godfrey\n",
    "# 2x (9) Voidlord\n",
    "# 1x (10) Bloodreaver Gul'dan\n",
    "# 1x (12) Mountain Giant\n",
    "'''\n",
    "\n",
    "DECK_2 = '''### Even Paladin - Standard Meta Snapshot - May 9, 2018\n",
    "# Class: Paladin\n",
    "# Format: Standard\n",
    "# Year of the Raven\n",
    "#\n",
    "# 1x (2) Acidic Swamp Ooze\n",
    "# 2x (2) Amani Berserker\n",
    "# 2x (2) Dire Wolf Alpha\n",
    "# 2x (2) Equality\n",
    "# 2x (2) Knife Juggler\n",
    "# 2x (2) Loot Hoarder\n",
    "# 2x (4) Blessing of Kings\n",
    "# 2x (4) Call to Arms\n",
    "# 2x (4) Consecration\n",
    "# 2x (4) Saronite Chain Gang\n",
    "# 2x (4) Spellbreaker\n",
    "# 2x (4) Truesilver Champion\n",
    "# 2x (6) Argent Commander\n",
    "# 2x (6) Avenging Wrath\n",
    "# 1x (6) Genn Greymane\n",
    "# 1x (6) Sunkeeper Tarim\n",
    "# 1x (6) Val'anyr\n",
    "'''\n",
    "DECK_3 = '''### Spiteful Druid - Standard Meta Snapshot - May 9, 2018\n",
    "# Class: Druid\n",
    "# Format: Standard\n",
    "# Year of the Raven\n",
    "#\n",
    "# 2x (1) Fire Fly\n",
    "# 2x (1) Glacial Shard\n",
    "# 1x (2) Prince Keleseth\n",
    "# 2x (3) Crypt Lord\n",
    "# 2x (3) Druid of the Scythe\n",
    "# 2x (3) Greedy Sprite\n",
    "# 2x (3) Mind Control Tech\n",
    "# 1x (3) Tar Creeper\n",
    "# 2x (4) Saronite Chain Gang\n",
    "# 2x (4) Spellbreaker\n",
    "# 2x (5) Cobalt Scalebane\n",
    "# 2x (5) Fungalmancer\n",
    "# 1x (5) Leeroy Jenkins\n",
    "# 2x (6) Spiteful Summoner\n",
    "# 1x (7) Malfurion the Pestilent\n",
    "# 1x (8) Grand Archivist\n",
    "# 1x (8) The Lich King\n",
    "# 2x (10) Ultimate Infestation\n",
    "'''\n",
    "\n",
    "DECK_4 = '''### Aggro Mage - Standard Meta Snapshot - Apr. 30, 2018\n",
    "# Class: Mage\n",
    "# Format: Standard\n",
    "# Year of the Raven\n",
    "#\n",
    "# 2x (1) Arcane Missiles\n",
    "# 2x (1) Mana Wyrm\n",
    "# 1x (1) Mirror Image\n",
    "# 1x (2) Amani Berserker\n",
    "# 2x (2) Arcanologist\n",
    "# 1x (2) Bloodmage Thalnos\n",
    "# 2x (2) Frostbolt\n",
    "# 2x (2) Primordial Glyph\n",
    "# 2x (2) Sorcerer's Apprentice\n",
    "# 2x (3) Arcane Intellect\n",
    "# 2x (3) Cinderstorm\n",
    "# 2x (3) Counterspell\n",
    "# 2x (3) Explosive Runes\n",
    "# 2x (3) Kirin Tor Mage\n",
    "# 2x (4) Fireball\n",
    "# 1x (4) Lifedrinker\n",
    "# 1x (6) Aluneth\n",
    "# 1x (10) Pyroblast\n",
    "'''"
   ]
  },
  {
   "cell_type": "markdown",
   "metadata": {},
   "source": [
    "We will create a `Context` object that represents a single instance of the Spellsource engine. You can only have one context at a time."
   ]
  },
  {
   "cell_type": "code",
   "execution_count": 3,
   "metadata": {},
   "outputs": [],
   "source": [
    "ctx = Context()"
   ]
  },
  {
   "cell_type": "markdown",
   "metadata": {},
   "source": [
    "Now, let's run a simulation. We can specify the AI that will be used to play the decks. We'll use `PlayRandomBehaviour` to model an average player, because two random players shows us, on average, how we expect two decks to perform against each other regardless of who's using them."
   ]
  },
  {
   "cell_type": "code",
   "execution_count": 4,
   "metadata": {},
   "outputs": [
    {
     "name": "stderr",
     "output_type": "stream",
     "text": [
      "100%|██████████| 6/6 [00:04<00:00,  1.29it/s]\n"
     ]
    }
   ],
   "source": [
    "results = list(tqdm(simulate(\n",
    "    behaviours=('PlayRandomBehaviour', 'PlayRandomBehaviour'), \n",
    "    decks=(DECK_1, DECK_2, DECK_3, DECK_4),\n",
    "    number=100,\n",
    "    context=ctx)))"
   ]
  },
  {
   "cell_type": "markdown",
   "metadata": {},
   "source": [
    "Let's see one of the matchups."
   ]
  },
  {
   "cell_type": "code",
   "execution_count": 5,
   "metadata": {},
   "outputs": [
    {
     "data": {
      "text/plain": [
       "{'decks': ['Spiteful Druid - Standard Meta Snapshot - May 9, 2018',\n",
       "  'Cubelock - Standard Meta Snapshot - May 9, 2018'],\n",
       " 'numberOfGames': 100,\n",
       " 'results': [{'WIN_RATE': 0.73,\n",
       "   'GAMES_WON': 73,\n",
       "   'GAMES_LOST': 27,\n",
       "   'DAMAGE_DEALT': 9011,\n",
       "   'HEALING_DONE': 10,\n",
       "   'MANA_SPENT': 7929,\n",
       "   'CARDS_PLAYED': 2547,\n",
       "   'TURNS_TAKEN': 1589,\n",
       "   'ARMOR_GAINED': 1093,\n",
       "   'CARDS_DRAWN': 1987,\n",
       "   'FATIGUE_DAMAGE': 816,\n",
       "   'MINIONS_PLAYED': 4118,\n",
       "   'SPELLS_CAST': 213,\n",
       "   'HERO_POWER_USED': 421,\n",
       "   'WEAPONS_EQUIPPED': 4,\n",
       "   'WEAPONS_PLAYED': 4},\n",
       "  {'WIN_RATE': 0.27,\n",
       "   'GAMES_WON': 27,\n",
       "   'GAMES_LOST': 73,\n",
       "   'DAMAGE_DEALT': 19170,\n",
       "   'HEALING_DONE': 1709,\n",
       "   'MANA_SPENT': 7095,\n",
       "   'CARDS_PLAYED': 2404,\n",
       "   'TURNS_TAKEN': 1569,\n",
       "   'ARMOR_GAINED': 477,\n",
       "   'CARDS_DRAWN': 1956,\n",
       "   'FATIGUE_DAMAGE': 307,\n",
       "   'MINIONS_PLAYED': 3513,\n",
       "   'SPELLS_CAST': 609,\n",
       "   'HERO_POWER_USED': 487,\n",
       "   'WEAPONS_EQUIPPED': 46,\n",
       "   'WEAPONS_PLAYED': 46,\n",
       "   'CARDS_DISCARDED': 147}]}"
      ]
     },
     "execution_count": 5,
     "metadata": {},
     "output_type": "execute_result"
    }
   ],
   "source": [
    "results[0]"
   ]
  },
  {
   "cell_type": "markdown",
   "metadata": {},
   "source": [
    "While Cubelock is higher in the meta than Spiteful Druid, the average player would probably play Spiteful Druid better, suggesting that Cubelock has a higher skillcap than Spiteful Druid.\n",
    "\n",
    "Let's now compare a decent player, one that plays quite tactically (tries to optimize their current turn)."
   ]
  },
  {
   "cell_type": "code",
   "execution_count": 6,
   "metadata": {},
   "outputs": [
    {
     "name": "stderr",
     "output_type": "stream",
     "text": [
      "100%|██████████| 6/6 [06:29<00:00, 64.91s/it] \n"
     ]
    }
   ],
   "source": [
    "results = list(tqdm(simulate(\n",
    "    behaviours=('GameStateValueBehaviour', 'GameStateValueBehaviour'), \n",
    "    decks=(DECK_1, DECK_2, DECK_3, DECK_4),\n",
    "    number=20,\n",
    "    context=ctx)))"
   ]
  },
  {
   "cell_type": "markdown",
   "metadata": {},
   "source": [
    "Let's now compare."
   ]
  },
  {
   "cell_type": "code",
   "execution_count": 7,
   "metadata": {},
   "outputs": [
    {
     "data": {
      "text/plain": [
       "{'decks': ['Spiteful Druid - Standard Meta Snapshot - May 9, 2018',\n",
       "  'Cubelock - Standard Meta Snapshot - May 9, 2018'],\n",
       " 'numberOfGames': 20,\n",
       " 'results': [{'WIN_RATE': 0.55,\n",
       "   'GAMES_WON': 11,\n",
       "   'GAMES_LOST': 9,\n",
       "   'DAMAGE_DEALT': 1566,\n",
       "   'HEALING_DONE': 5,\n",
       "   'MANA_SPENT': 1244,\n",
       "   'CARDS_PLAYED': 401,\n",
       "   'TURNS_TAKEN': 242,\n",
       "   'ARMOR_GAINED': 117,\n",
       "   'CARDS_DRAWN': 284,\n",
       "   'FATIGUE_DAMAGE': 44,\n",
       "   'MINIONS_PLAYED': 679,\n",
       "   'SPELLS_CAST': 29,\n",
       "   'HERO_POWER_USED': 62,\n",
       "   'WEAPONS_EQUIPPED': 1,\n",
       "   'WEAPONS_PLAYED': 1},\n",
       "  {'WIN_RATE': 0.45,\n",
       "   'GAMES_WON': 9,\n",
       "   'GAMES_LOST': 11,\n",
       "   'DAMAGE_DEALT': 3262,\n",
       "   'HEALING_DONE': 261,\n",
       "   'MANA_SPENT': 1143,\n",
       "   'CARDS_PLAYED': 389,\n",
       "   'TURNS_TAKEN': 239,\n",
       "   'ARMOR_GAINED': 81,\n",
       "   'CARDS_DRAWN': 307,\n",
       "   'FATIGUE_DAMAGE': 10,\n",
       "   'MINIONS_PLAYED': 577,\n",
       "   'SPELLS_CAST': 101,\n",
       "   'HERO_POWER_USED': 79,\n",
       "   'CARDS_DISCARDED': 35}]}"
      ]
     },
     "execution_count": 7,
     "metadata": {},
     "output_type": "execute_result"
    }
   ],
   "source": [
    "results[0]"
   ]
  },
  {
   "cell_type": "markdown",
   "metadata": {},
   "source": [
    "Here, Spiteful Druid's winrate against Cubelock is 55%. This is actually exactly the winrate expected from the [meta](https://tempostorm.com/hearthstone/decks/spiteful-druid-standard-meta-snapshot-may-9-2018).\n",
    "\n",
    "To finish, close the context."
   ]
  },
  {
   "cell_type": "code",
   "execution_count": 8,
   "metadata": {},
   "outputs": [],
   "source": [
    "ctx.close()"
   ]
  }
 ],
 "metadata": {
  "kernelspec": {
   "display_name": "Python 3",
   "language": "python",
   "name": "python3"
  },
  "language_info": {
   "codemirror_mode": {
    "name": "ipython",
    "version": 3
   },
   "file_extension": ".py",
   "mimetype": "text/x-python",
   "name": "python",
   "nbconvert_exporter": "python",
   "pygments_lexer": "ipython3",
   "version": "3.6.5"
  }
 },
 "nbformat": 4,
 "nbformat_minor": 2
}
