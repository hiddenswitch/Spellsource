{
 "cells": [
  {
   "cell_type": "markdown",
   "metadata": {},
   "source": [
    "# FAQ of Using Spellsource for AI Research\n",
    "\n",
    "## Simulations\n",
    "\n",
    "**Question:** Does the framework support a forward method such that an agent can receive a simulated outcome of an action?\n",
    "\n",
    "**Answer::** Let's walk through an example of creating a game context, seeing available actions, choosing an action and looking at the game state.\n",
    "\n",
    "First, we'll import the dependencies."
   ]
  },
  {
   "cell_type": "code",
   "execution_count": 1,
   "metadata": {},
   "outputs": [],
   "source": [
    "from spellsource.context import Context\n",
    "from spellsource.behaviour import *"
   ]
  },
  {
   "cell_type": "markdown",
   "metadata": {},
   "source": [
    "While normally `Context()` is best managed as a resource, it'll be convenient to have autocomplete, so we'll create a reference to it this way and close it later with `del ctx`."
   ]
  },
  {
   "cell_type": "code",
   "execution_count": 2,
   "metadata": {},
   "outputs": [],
   "source": [
    "ctx = Context()"
   ]
  },
  {
   "cell_type": "markdown",
   "metadata": {},
   "source": [
    "Now we need a game context. A game context is a combination of the game data, the game logic, and a way to specify player behaviours, plus some convenience methods to play out a game.\n",
    "\n",
    "Let's create a game context from two standard deck lists we obtained from [TempoStorm](https://tempostorm.com/hearthstone/meta-snapshot/standard/2018-06-18)."
   ]
  },
  {
   "cell_type": "code",
   "execution_count": 3,
   "metadata": {},
   "outputs": [],
   "source": [
    "TOKEN_DRUID = '''### Token Druid - Standard Meta Snapshot - June 18, 2018\n",
    "# Class: Druid\n",
    "# Format: Standard\n",
    "# Year of the Raven\n",
    "#\n",
    "# 2x (1) Lesser Jasper Spellstone\n",
    "# 2x (2) Wild Growth\n",
    "# 2x (2) Wrath\n",
    "# 2x (3) Savage Roar\n",
    "# 2x (4) Branching Paths\n",
    "# 1x (4) Oaken Summons\n",
    "# 2x (4) Soul of the Forest\n",
    "# 2x (4) Swipe\n",
    "# 2x (4) Violet Teacher\n",
    "# 2x (4) Wispering Woods\n",
    "# 2x (5) Arcane Tyrant\n",
    "# 2x (5) Nourish\n",
    "# 1x (6) Cairne Bloodhoof\n",
    "# 2x (6) Spreading Plague\n",
    "# 1x (7) Malfurion the Pestilent\n",
    "# 1x (8) The Lich King\n",
    "# 2x (10) Ultimate Infestation\n",
    "#\n",
    "AAECAZICBITmAqQDmdMCws4CDZjSAuQIxAbmBZ7SAv0CQIUI1+8C29MCX6DNAofOAgA=\n",
    "#\n",
    "# To use this deck, copy it to your clipboard and create a new deck in Hearthstone'''\n",
    "\n",
    "EVEN_WARLOCK = '''### Even Warlock - Standard Meta Snapshot - June 18, 2018\n",
    "# Class: Warlock\n",
    "# Format: Standard\n",
    "# Year of the Raven\n",
    "#\n",
    "# 1x (2) Acidic Swamp Ooze\n",
    "# 2x (2) Defile\n",
    "# 2x (2) Doomsayer\n",
    "# 2x (2) Plated Beetle\n",
    "# 2x (2) Sunfury Protector\n",
    "# 2x (2) Vulgar Homunculus\n",
    "# 2x (4) Hellfire\n",
    "# 2x (4) Hooked Reaver\n",
    "# 2x (4) Lesser Amethyst Spellstone\n",
    "# 2x (4) Shroom Brewer\n",
    "# 2x (4) Spellbreaker\n",
    "# 2x (4) Twilight Drake\n",
    "# 1x (6) Dread Infernal\n",
    "# 1x (6) Genn Greymane\n",
    "# 1x (6) Skulking Geist\n",
    "# 1x (8) The Lich King\n",
    "# 1x (10) Bloodreaver Gul'dan\n",
    "# 2x (12) Mountain Giant\n",
    "#\n",
    "AAECAf0GBooH+wfN9AKgzgLCzgKX0wIM58sCigHq5gL7BvHQArYH/dACiNIC2OUC8gWNCOEHAA==\n",
    "#\n",
    "# To use this deck, copy it to your clipboard and create a new deck in Hearthstone\n",
    "'''\n",
    "game_context = ctx.GameContext.fromDeckLists([TOKEN_DRUID, EVEN_WARLOCK])"
   ]
  },
  {
   "cell_type": "markdown",
   "metadata": {},
   "source": [
    "Note that the autocomplete for `ctx.GameContext` will show all the possible functions that can be called on it; the Java-Python bridge supports autocomplete.\n",
    "\n",
    "At this particular moment, the game has not yet started. The typical lifecycle of a game looks like:\n",
    "\n",
    "  1. Construct a `GameContext` using `fromTwoRandomDecks` or `fromDecks`.\n",
    "  1. `play()`, which just calls `init(); resume();`.\n",
    "     1. `init()` will call `requestMulligan` on the two `Behaviour` instances set in `game_context.getBehaviours()`.\n",
    "     2. `resume` will repeatedly play turns until the end of the game, calling `requestAction` on the two `Behaviour` instances.\n",
    "     \n",
    "Typically, when `play` is called, the game is run until completion. However, to make it interactive in the console, we have to change the kind of agent we use. We'll use a `FiberBehaviour` to represent an interactive agent.\n",
    "\n",
    "Let's now create instances of the two agents (the behaviours) that we'll use to actually control the game interactively."
   ]
  },
  {
   "cell_type": "code",
   "execution_count": 4,
   "metadata": {},
   "outputs": [],
   "source": [
    "agent_1 = ctx.behaviour.FiberBehaviour()\n",
    "agent_2 = ctx.behaviour.FiberBehaviour()\n",
    "\n",
    "game_context.setBehaviour(ctx.GameContext.PLAYER_1, agent_1)\n",
    "game_context.setBehaviour(ctx.GameContext.PLAYER_2, agent_2)"
   ]
  },
  {
   "cell_type": "markdown",
   "metadata": {},
   "source": [
    "Now, when we `play()` (i.e., `init()` and `resume()`), the game will advance until one of the agents has a pending action.\n",
    "\n",
    "However, if we play this notebook multiple times, we'll get different results. The random seed for the game is not held constant. To do that, we'll create a `GameLogic` with a specific seed, and give it to the game context."
   ]
  },
  {
   "cell_type": "code",
   "execution_count": 5,
   "metadata": {},
   "outputs": [],
   "source": [
    "SEED = 10101\n",
    "game_context.setLogic(ctx.GameLogic(SEED))"
   ]
  },
  {
   "cell_type": "markdown",
   "metadata": {},
   "source": [
    "When we `play`, the game will advance until the player who starts first will mulligan. Note that in the networked version of the game, mulligans happen simultaneously."
   ]
  },
  {
   "cell_type": "code",
   "execution_count": 6,
   "metadata": {},
   "outputs": [],
   "source": [
    "game_context.play()"
   ]
  },
  {
   "cell_type": "markdown",
   "metadata": {},
   "source": [
    "Let's see which agent has a mulligan pending. We'll sleep 10 ms because the game is asynchronous."
   ]
  },
  {
   "cell_type": "code",
   "execution_count": 7,
   "metadata": {},
   "outputs": [
    {
     "name": "stdout",
     "output_type": "stream",
     "text": [
      "Agent 1 []\n",
      "Agent 2 []\n"
     ]
    }
   ],
   "source": [
    "def pending_mulligans():\n",
    "    for i, agent in enumerate([agent_1, agent_2]):\n",
    "        print('Agent', i+1, [card.toString() for card in agent.getMulliganCards()])\n",
    "\n",
    "from time import sleep\n",
    "sleep(0.001)\n",
    "pending_mulligans()"
   ]
  },
  {
   "cell_type": "markdown",
   "metadata": {},
   "source": [
    "Observe we used `toString` to print out the description of a `Card` object.\n",
    "\n",
    "Agent 1 has a pending mulligan request with the specified cards. Let's discard `Malfurion the Pestilent`."
   ]
  },
  {
   "cell_type": "code",
   "execution_count": 8,
   "metadata": {},
   "outputs": [],
   "source": [
    "malfurion_the_pestilent = agent_1.getMulliganCards()[2]\n",
    "assert malfurion_the_pestilent.getName() == 'Malfurion the Pestilent'\n",
    "agent_1.setMulligan([malfurion_the_pestilent])"
   ]
  },
  {
   "cell_type": "markdown",
   "metadata": {},
   "source": [
    "Note, that to support interactive gameplay with the console, immediately printing the pending mulligans will show none, because the call to `setMulligan` is asynchronous (though near instantaneous). We'll sleep to let the simulation catch up with our command. Normally, you would not need to do this in actual implementations of `Behaviour`."
   ]
  },
  {
   "cell_type": "code",
   "execution_count": 9,
   "metadata": {},
   "outputs": [],
   "source": [
    "sleep(0.01)"
   ]
  },
  {
   "cell_type": "markdown",
   "metadata": {},
   "source": [
    "Which mulligans are pending now?"
   ]
  },
  {
   "cell_type": "code",
   "execution_count": 10,
   "metadata": {},
   "outputs": [
    {
     "name": "stdout",
     "output_type": "stream",
     "text": [
      "Agent 1 []\n",
      "Agent 2 [\"[MINION 'Vulgar Homunculus' [EntityReference id:45] Manacost:2]\", \"[MINION 'Mountain Giant' [EntityReference id:64] Manacost:12]\", \"[MINION 'Hooked Reaver' [EntityReference id:49] Manacost:4]\", \"[SPELL 'Lesser Amethyst Spellstone' [EntityReference id:52] Manacost:4]\"]\n"
     ]
    }
   ],
   "source": [
    "pending_mulligans()"
   ]
  },
  {
   "cell_type": "markdown",
   "metadata": {},
   "source": [
    "Let's keep this hand for agent 2."
   ]
  },
  {
   "cell_type": "code",
   "execution_count": 11,
   "metadata": {},
   "outputs": [],
   "source": [
    "sleep(0.01)\n",
    "agent_2.setMulligan([])"
   ]
  },
  {
   "cell_type": "markdown",
   "metadata": {},
   "source": [
    "Which player was the active one?"
   ]
  },
  {
   "cell_type": "code",
   "execution_count": 12,
   "metadata": {},
   "outputs": [
    {
     "data": {
      "text/plain": [
       "'Player 0'"
      ]
     },
     "execution_count": 12,
     "metadata": {},
     "output_type": "execute_result"
    }
   ],
   "source": [
    "game_context.getActivePlayer().getName()"
   ]
  },
  {
   "cell_type": "markdown",
   "metadata": {},
   "source": [
    "That would be agent 1. Let's get that agent's current available actions and choose one."
   ]
  },
  {
   "cell_type": "code",
   "execution_count": 13,
   "metadata": {},
   "outputs": [
    {
     "data": {
      "text/plain": [
       "[]"
      ]
     },
     "execution_count": 13,
     "metadata": {},
     "output_type": "execute_result"
    }
   ],
   "source": [
    "[action.toString() for action in agent_1.getValidActions()]"
   ]
  },
  {
   "cell_type": "markdown",
   "metadata": {},
   "source": [
    "This player can't play any cards yet. Why? Does it have enough mana?"
   ]
  },
  {
   "cell_type": "code",
   "execution_count": 14,
   "metadata": {},
   "outputs": [
    {
     "data": {
      "text/plain": [
       "[\"[SPELL 'Lesser Jasper Spellstone' [EntityReference id:5] Manacost:1]\",\n",
       " \"[SPELL 'Oaken Summons' [EntityReference id:14] Manacost:4]\",\n",
       " \"[SPELL 'Wispering Woods' [EntityReference id:22] Manacost:4]\"]"
      ]
     },
     "execution_count": 14,
     "metadata": {},
     "output_type": "execute_result"
    }
   ],
   "source": [
    "[card.toString() for card in game_context.getActivePlayer().getHand()]"
   ]
  },
  {
   "cell_type": "code",
   "execution_count": 15,
   "metadata": {},
   "outputs": [
    {
     "data": {
      "text/plain": [
       "1"
      ]
     },
     "execution_count": 15,
     "metadata": {},
     "output_type": "execute_result"
    }
   ],
   "source": [
    "game_context.getActivePlayer().getMana()"
   ]
  },
  {
   "cell_type": "markdown",
   "metadata": {},
   "source": [
    "There seems to be enough mana to play `Leser Jasper Spellstone`. But can it be played? Let's look at its text."
   ]
  },
  {
   "cell_type": "code",
   "execution_count": 16,
   "metadata": {},
   "outputs": [
    {
     "data": {
      "text/plain": [
       "'Deal $2 damage to a minion. (Gain 3 Armor to upgrade.)'"
      ]
     },
     "execution_count": 16,
     "metadata": {},
     "output_type": "execute_result"
    }
   ],
   "source": [
    "game_context.getActivePlayer().getHand()[0].getDescription()"
   ]
  },
  {
   "cell_type": "markdown",
   "metadata": {},
   "source": [
    "There are no minions on the board, so it makes sense that the card cannot be played.\n",
    "\n",
    "What if we put a minion on the board?"
   ]
  },
  {
   "cell_type": "code",
   "execution_count": 17,
   "metadata": {},
   "outputs": [],
   "source": [
    "card_bloodfen_raptor = ctx.CardCatalogue.getCardByName(\"Bloodfen Raptor\")\n",
    "assert card_bloodfen_raptor is not None\n",
    "\n",
    "# Gets a minion from the card but which is not yet inside the game\n",
    "bloodfen_raptor = card_bloodfen_raptor.summon()\n",
    "\n",
    "# Perform the summoning effects as though the opponent of the current player summoned this minion.\n",
    "opponent = game_context.getOpponent(game_context.getActivePlayer())\n",
    "\n",
    "# int playerId, Minion minion, Card source, int index, boolean resolveBattlecry\n",
    "# Should return true if the minion was successfully summoned\n",
    "assert game_context.getLogic().summon(opponent.getId(), bloodfen_raptor, None, -1, False)"
   ]
  },
  {
   "cell_type": "markdown",
   "metadata": {},
   "source": [
    "Jasper Spellstone now ought to be able to target this minion."
   ]
  },
  {
   "cell_type": "code",
   "execution_count": 18,
   "metadata": {},
   "outputs": [
    {
     "data": {
      "text/plain": [
       "['SPELL Card: [EntityReference id:5] Target: [EntityReference id:70]',\n",
       " '[END_TURN]']"
      ]
     },
     "execution_count": 18,
     "metadata": {},
     "output_type": "execute_result"
    }
   ],
   "source": [
    "[action.toString() for action in agent_1.getValidActions()]"
   ]
  },
  {
   "cell_type": "markdown",
   "metadata": {},
   "source": [
    "Observe that the first action specifies a card of a given entity reference and a target. Let's try resolving those references so we can see what the action is really saying."
   ]
  },
  {
   "cell_type": "code",
   "execution_count": 19,
   "metadata": {},
   "outputs": [
    {
     "name": "stdout",
     "output_type": "stream",
     "text": [
      "0 SPELL [SPELL 'Lesser Jasper Spellstone' [EntityReference id:5] Manacost:1]: Targeting [MINION 'Bloodfen Raptor'id:70 3/2 hashCode: 113878665]\n",
      "1 END_TURN None: Targeting None\n"
     ]
    }
   ],
   "source": [
    "for i, action in enumerate(agent_1.getValidActions()):\n",
    "    source = game_context.resolveSingleTarget(action.getSourceReference())\n",
    "    target = game_context.resolveSingleTarget(action.getTargetReference())\n",
    "    print('%d %s %s: Targeting %s' %( i, action.getActionType().toString(), source, target))"
   ]
  },
  {
   "cell_type": "markdown",
   "metadata": {},
   "source": [
    "We've now observed how to inspect some aspects of a game state and manipulate it. What if we wanted to simulate the consequences of a particular action before taking it? Let's **simulate** it by cloning the game context, executing this action and checking out the game state."
   ]
  },
  {
   "cell_type": "code",
   "execution_count": 20,
   "metadata": {},
   "outputs": [],
   "source": [
    "clone = game_context.clone()\n",
    "clone_opponent = clone.getOpponent(clone.getActivePlayer())\n",
    "# The clone should have a Bloodfen Raptor in the opponent's battlefield\n",
    "assert clone_opponent.getMinions()[0].getSourceCard().getName() == 'Bloodfen Raptor'\n",
    "# You can perform actions from one instance of a game context inside\n",
    "# another; they are effectively immutable structures that don't reference\n",
    "# the contexts they were created in\n",
    "jasper_spellstone_action = agent_1.getValidActions()[0]\n",
    "# In simulations, it's generally appropriate to just perform the game action directly instead of interacting with\n",
    "# behaviours.\n",
    "clone.getLogic().performGameAction(clone.getActivePlayerId(), jasper_spellstone_action)\n",
    "# We should have destroyed the Bloodfen Raptor in the clone opponent's battlefield\n",
    "assert len(clone_opponent.getMinions()) == 0\n",
    "# The opponent from the original game context should still have the bloodfen raptor on the battlefield.\n",
    "assert opponent.getMinions()[0].getSourceCard().getName() == 'Bloodfen Raptor'"
   ]
  },
  {
   "cell_type": "markdown",
   "metadata": {},
   "source": [
    "Suppose we were satisfied with this simulation. Let's take this action in the original game context, and then end the turn."
   ]
  },
  {
   "cell_type": "code",
   "execution_count": 21,
   "metadata": {},
   "outputs": [],
   "source": [
    "agent_1.setAction(jasper_spellstone_action)\n",
    "sleep(0.01)\n",
    "assert len(agent_2.getValidActions()) == 0\n",
    "end_turn_action = agent_1.getValidActions()[0]\n",
    "assert end_turn_action.getActionType().toString() == 'END_TURN'\n",
    "agent_1.setAction(end_turn_action)\n",
    "sleep(0.01)\n",
    "assert len(agent_2.getValidActions()) > 0"
   ]
  },
  {
   "cell_type": "markdown",
   "metadata": {},
   "source": [
    "Let's review all the actions we did, and print a log."
   ]
  },
  {
   "cell_type": "code",
   "execution_count": 22,
   "metadata": {},
   "outputs": [
    {
     "name": "stdout",
     "output_type": "stream",
     "text": [
      "SPELL Card: [EntityReference id:5] Target: [EntityReference id:70]\n",
      "[END_TURN]\n"
     ]
    }
   ],
   "source": [
    "for action in game_context.getTrace().getRawActions():\n",
    "    print(action.toString())"
   ]
  },
  {
   "cell_type": "markdown",
   "metadata": {},
   "source": [
    "It might be helpful to see a little bit more detail about these actions. Let's resolve the source and target entities, and show which player took the action. These are not resolved by default because actions never hold references to things inside the game object, in order to let you synthesize them however you want."
   ]
  },
  {
   "cell_type": "code",
   "execution_count": 23,
   "metadata": {},
   "outputs": [
    {
     "name": "stdout",
     "output_type": "stream",
     "text": [
      "0 SPELL Lesser Jasper Spellstone ON Bloodfen Raptor\n",
      "0 END_TURN Malfurion Stormrage  \n"
     ]
    }
   ],
   "source": [
    "for action in game_context.getTrace().getRawActions():\n",
    "    action_type = action.getActionType().toString()\n",
    "    source = action.getSource(game_context)\n",
    "    player_id = source.getOwner()\n",
    "    targets = action.getTargets(game_context, player_id)\n",
    "    print(player_id, \n",
    "          action_type, \n",
    "          source.getName() if source is not None else \"(no source)\", \n",
    "          'ON' if len(targets) > 0 else '',\n",
    "          ', '.join(target.getName() for target in targets))"
   ]
  },
  {
   "cell_type": "markdown",
   "metadata": {},
   "source": [
    "Let's close this context."
   ]
  },
  {
   "cell_type": "code",
   "execution_count": 24,
   "metadata": {},
   "outputs": [],
   "source": [
    "ctx.close()"
   ]
  },
  {
   "cell_type": "markdown",
   "metadata": {},
   "source": [
    "## Speed\n",
    "\n",
    "**Question:** How fast can games be simulated?\n",
    "\n",
    "**Answer:** Quite fast, definitely the fastest of all Hearthstone simulators with good card coverage. However, there is significant overhead when interacting with Python, so performance-sensitive agents must necessarily be implemented in Java and use the game state as closely as possible without cloning.\n",
    "\n",
    "Generally, other simulators perform faster with more efficient cloning. However, they typically omit or incorrectly implement effects that mutate a lot of game state, like `Prince Keleseth`. Once all card effects are implemented, simulators tend to approach the same speed.\n",
    "\n",
    "Let's compare the Python implementation of `PlayRandomBehaviour` to the Java implementation, in order to measure the impact of the overhead of single method calls (no meaningful data transfer)."
   ]
  },
  {
   "cell_type": "code",
   "execution_count": 25,
   "metadata": {},
   "outputs": [
    {
     "name": "stderr",
     "output_type": "stream",
     "text": [
      "100%|██████████| 1/1 [00:09<00:00,  9.31s/it]\n"
     ]
    }
   ],
   "source": [
    "from tqdm import tqdm\n",
    "from spellsource.utils import simulate\n",
    "with Context() as ctx:\n",
    "    results = list(tqdm(simulate(\n",
    "        behaviours=('PlayRandomBehaviour', 'PlayRandomBehaviour'), \n",
    "        decks=(TOKEN_DRUID, EVEN_WARLOCK),\n",
    "        number=1000,\n",
    "        context=ctx)))"
   ]
  },
  {
   "cell_type": "code",
   "execution_count": 26,
   "metadata": {},
   "outputs": [
    {
     "name": "stderr",
     "output_type": "stream",
     "text": [
      "100%|██████████| 1/1 [01:04<00:00, 64.72s/it]\n"
     ]
    }
   ],
   "source": [
    "from spellsource.playrandombehaviour import PlayRandomBehaviour\n",
    "with Context() as ctx:\n",
    "    results = list(tqdm(simulate(\n",
    "        behaviours=(PlayRandomBehaviour(), PlayRandomBehaviour()), \n",
    "        decks=(TOKEN_DRUID, EVEN_WARLOCK),\n",
    "        number=1000,\n",
    "        context=ctx)))"
   ]
  },
  {
   "cell_type": "markdown",
   "metadata": {},
   "source": [
    "To simulate 1000 randomly-played games with no method overhead, it takes between 8-10s on this machine. With method overhead (the simplest possible Python behaviour), it takes about 60-80s. It's strongly recommended to implement all performance-sensitive `Behaviours` in Java."
   ]
  },
  {
   "cell_type": "markdown",
   "metadata": {},
   "source": [
    "## Stable Releases\n",
    "\n",
    "**Question:** How does API stability look?\n",
    "\n",
    "**Answer:** The abstract base class for `Behaviour` will never change. Until 1.0, the `GameContext` will call `requestAction` on a behaviour whenever playing a card results in a discover or battlecry action to take, resulting in possibly recursive calls to `requestAction` whenever simulating; at 1.0, there will never be recursive calls to `requestAction`.\n",
    "\n",
    "Before 1.0:\n",
    "\n",
    " 1. `GameContext` calls `requestAction` on a behaviour (agent) like normal. `requestAction` is pushed to the call stack.\n",
    " 2. In the process of simulating all the possible actions, the agent simulates playing a Discover card.\n",
    " 3. Inside the simulated `GameContext`, the discover card calls `requestAction` on the original behaviour instance. `requestAction` is pushed to the call stack a second time.\n",
    " 4. The behaviour must deal with the recursive call appropriately (the current AIs do).\n",
    " 5. The simulated `requestAction` is popped off the call stack.\n",
    " 6. The actual `requestAction` is poppsed off the call stack.\n",
    " \n",
    "After 1.0:\n",
    "\n",
    " 1. `GameContext` calls `requestAction` on a behaviour (agent) like normal. `requestAction` is pushed to the call stack.\n",
    " 2. In the process of simulating all the possible actions, the agent simulates playing a Discover card.\n",
    " 3. Inside the simulated `GameContext`, the discover card enqueues the discover choices as possible actions and returns.\n",
    " 4. `requestAction` is popped off the call stack.\n",
    " \n",
    "## Thesis Research\n",
    "\n",
    "Please visit [the MIT Media Lab website](https://www.media.mit.edu/publications/minionate-the-collectible-card-game/) for the thesis in MMO game design."
   ]
  }
 ],
 "metadata": {
  "kernelspec": {
   "display_name": "Python 3",
   "language": "python",
   "name": "python3"
  },
  "language_info": {
   "codemirror_mode": {
    "name": "ipython",
    "version": 3
   },
   "file_extension": ".py",
   "mimetype": "text/x-python",
   "name": "python",
   "nbconvert_exporter": "python",
   "pygments_lexer": "ipython3",
   "version": "3.7.0"
  }
 },
 "nbformat": 4,
 "nbformat_minor": 2
}
